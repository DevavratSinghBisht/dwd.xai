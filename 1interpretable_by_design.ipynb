{
 "cells": [
  {
   "cell_type": "code",
   "execution_count": 1,
   "metadata": {},
   "outputs": [],
   "source": [
    "import pandas as pd \n",
    "pd.set_option('display.max_columns', None)\n",
    "from sklearn.model_selection import train_test_split\n",
    "\n",
    "from interpret.glassbox import LogisticRegression, ClassificationTree, ExplainableBoostingClassifier\n",
    "from interpret import show\n",
    "from sklearn.metrics import f1_score, accuracy_score"
   ]
  },
  {
   "cell_type": "code",
   "execution_count": 2,
   "metadata": {},
   "outputs": [],
   "source": [
    "SEED = 2021\n",
    "STROKE_PATH = \"data/stroke.csv\""
   ]
  },
  {
   "cell_type": "code",
   "execution_count": 3,
   "metadata": {},
   "outputs": [],
   "source": [
    "def load_process_split_dataset(path):\n",
    "    data = pd.read_csv(path)\n",
    "\n",
    "    data.drop([\"id\"], axis=1, inplace=True)\n",
    "        \n",
    "    # Categorical\n",
    "    cat_cols = [\"gender\", \"ever_married\", \"work_type\", \"Residence_type\", \"smoking_status\"]\n",
    "    one_hot = pd.get_dummies(data[cat_cols],  prefix=cat_cols, dtype=float)\n",
    "\n",
    "    data = pd.concat([one_hot, data], axis=1)\n",
    "    data.drop(cat_cols, axis=1, inplace=True)\n",
    "\n",
    "        # Numerical\n",
    "    data.bmi = data.bmi.fillna(0)\n",
    "\n",
    "    X = data.iloc[:,:-1]\n",
    "    y = data.iloc[:,-1]\n",
    "    return train_test_split(X, y, test_size=0.20, random_state=SEED)"
   ]
  },
  {
   "cell_type": "code",
   "execution_count": 4,
   "metadata": {},
   "outputs": [
    {
     "name": "stdout",
     "output_type": "stream",
     "text": [
      "Training finished.\n",
      "F1 Score 0.5048585401526579\n",
      "Accuracy 0.9481409001956947\n"
     ]
    },
    {
     "data": {
      "text/html": [
       "<!-- http://127.0.0.1:7001/1720014955728/ -->\n",
       "<iframe src=\"http://127.0.0.1:7001/1720014955728/\" width=100% height=800 frameBorder=\"0\"></iframe>"
      ]
     },
     "metadata": {},
     "output_type": "display_data"
    },
    {
     "data": {
      "text/html": [
       "<!-- http://127.0.0.1:7001/1720015714000/ -->\n",
       "<iframe src=\"http://127.0.0.1:7001/1720015714000/\" width=100% height=800 frameBorder=\"0\"></iframe>"
      ]
     },
     "metadata": {},
     "output_type": "display_data"
    }
   ],
   "source": [
    "\n",
    "X_train, X_test, y_train, y_test = load_process_split_dataset(STROKE_PATH)\n",
    "\n",
    "# Fitting LR Model\n",
    "lr = LogisticRegression(random_state=2021, feature_names=X_train.columns, penalty='l1', solver='liblinear')\n",
    "lr.fit(X_train, y_train)\n",
    "print(\"Training finished.\")\n",
    "\n",
    "# Evaluate model\n",
    "y_pred = lr.predict(X_test)\n",
    "print(f\"F1 Score {f1_score(y_test, y_pred, average='macro')}\")\n",
    "print(f\"Accuracy {accuracy_score(y_test, y_pred)}\")\n",
    "\n",
    "# Explain local prediction\n",
    "lr_local = lr.explain_local(X_test[:100], y_test[:100], name='Logistic Regression')\n",
    "show(lr_local)\n",
    "\n",
    "# Explain global logistic regression model\n",
    "lr_global = lr.explain_global(name='Logistic Regression')\n",
    "show(lr_global)"
   ]
  },
  {
   "cell_type": "code",
   "execution_count": 7,
   "metadata": {},
   "outputs": [
    {
     "name": "stdout",
     "output_type": "stream",
     "text": [
      "Training finished.\n",
      "F1 Score 0.5073148175476915\n",
      "Accuracy 0.952054794520548\n"
     ]
    },
    {
     "data": {
      "text/html": [
       "<!-- http://127.0.0.1:7001/1720118065744/ -->\n",
       "<iframe src=\"http://127.0.0.1:7001/1720118065744/\" width=100% height=800 frameBorder=\"0\"></iframe>"
      ]
     },
     "metadata": {},
     "output_type": "display_data"
    },
    {
     "data": {
      "text/html": [
       "<!-- http://127.0.0.1:7001/1720119469648/ -->\n",
       "<iframe src=\"http://127.0.0.1:7001/1720119469648/\" width=100% height=800 frameBorder=\"0\"></iframe>"
      ]
     },
     "metadata": {},
     "output_type": "display_data"
    }
   ],
   "source": [
    "# %% Fit decision tree model\n",
    "tree = ClassificationTree()\n",
    "tree.fit(X_train, y_train)\n",
    "print(\"Training finished.\")\n",
    "y_pred = tree.predict(X_test)\n",
    "print(f\"F1 Score {f1_score(y_test, y_pred, average='macro')}\")\n",
    "print(f\"Accuracy {accuracy_score(y_test, y_pred)}\")\n",
    "\n",
    "# %% Explain local prediction\n",
    "tree_local = tree.explain_local(X_test[:100], y_test[:100], name='Tree')\n",
    "show(tree_local)\n",
    "\n",
    "# %% Explain globally\n",
    "ebm_global = tree.explain_global(name='Classification Tree')\n",
    "show(ebm_global)"
   ]
  },
  {
   "cell_type": "code",
   "execution_count": 6,
   "metadata": {},
   "outputs": [
    {
     "name": "stdout",
     "output_type": "stream",
     "text": [
      "Training finished.\n",
      "F1 Score 0.5386324964406015\n",
      "Accuracy 0.949119373776908\n"
     ]
    },
    {
     "data": {
      "text/html": [
       "<!-- http://127.0.0.1:7001/1720099486096/ -->\n",
       "<iframe src=\"http://127.0.0.1:7001/1720099486096/\" width=100% height=800 frameBorder=\"0\"></iframe>"
      ]
     },
     "metadata": {},
     "output_type": "display_data"
    },
    {
     "data": {
      "text/html": [
       "<!-- http://127.0.0.1:7001/1720120138832/ -->\n",
       "<iframe src=\"http://127.0.0.1:7001/1720120138832/\" width=100% height=800 frameBorder=\"0\"></iframe>"
      ]
     },
     "metadata": {},
     "output_type": "display_data"
    }
   ],
   "source": [
    "# %% Fit Explainable Boosting Machine\n",
    "ebm = ExplainableBoostingClassifier(random_state=2021)\n",
    "ebm.fit(X_train, y_train) \n",
    "print(\"Training finished.\")\n",
    "y_pred = ebm.predict(X_test)\n",
    "print(f\"F1 Score {f1_score(y_test, y_pred, average='macro')}\")\n",
    "print(f\"Accuracy {accuracy_score(y_test, y_pred)}\")\n",
    "\n",
    "# %% Explain locally\n",
    "ebm_local = ebm.explain_local(X_test[:100], y_test[:100], name='EBM')\n",
    "show(ebm_local)\n",
    "\n",
    "# %% Explain globally\n",
    "ebm_global = ebm.explain_global(name='EBM')\n",
    "show(ebm_global)"
   ]
  },
  {
   "cell_type": "code",
   "execution_count": null,
   "metadata": {},
   "outputs": [],
   "source": []
  },
  {
   "cell_type": "code",
   "execution_count": null,
   "metadata": {},
   "outputs": [],
   "source": []
  }
 ],
 "metadata": {
  "kernelspec": {
   "display_name": "NeRF",
   "language": "python",
   "name": "python3"
  },
  "language_info": {
   "codemirror_mode": {
    "name": "ipython",
    "version": 3
   },
   "file_extension": ".py",
   "mimetype": "text/x-python",
   "name": "python",
   "nbconvert_exporter": "python",
   "pygments_lexer": "ipython3",
   "version": "3.11.5"
  },
  "orig_nbformat": 4
 },
 "nbformat": 4,
 "nbformat_minor": 2
}
